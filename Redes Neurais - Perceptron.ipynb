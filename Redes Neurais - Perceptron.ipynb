{
 "cells": [
  {
   "cell_type": "code",
   "execution_count": 1,
   "metadata": {},
   "outputs": [],
   "source": [
    "import numpy as np\n",
    "import matplotlib.pyplot as plt\n",
    "from scipy.interpolate import spline"
   ]
  },
  {
   "cell_type": "code",
   "execution_count": 2,
   "metadata": {},
   "outputs": [],
   "source": [
    "#initializa os pesos aleatoriamente e zera o bias \n",
    "def weight_init(num_inputs): \n",
    "    w = 2*np.random.random((1,num_inputs)) - 1 # [1x3] \n",
    "    b = 0 \n",
    "    return w,b"
   ]
  },
  {
   "cell_type": "code",
   "execution_count": 3,
   "metadata": {},
   "outputs": [],
   "source": [
    "### Funções de ativação ####\n",
    "def activation_func(func_type, z):\n",
    "    if func_type == 'sigmoid':\n",
    "        return 1/(1+np.exp(-z))\n",
    "    elif func_type == 'tanh':\n",
    "        return (2/(1+np.exp(-2*z)) -1)\n",
    "    elif func_type == 'relu':\n",
    "        return z * (z > 0)\n",
    "    elif func_type == 'degrau':\n",
    "        return z>=0"
   ]
  },
  {
   "cell_type": "code",
   "execution_count": 4,
   "metadata": {},
   "outputs": [
    {
     "data": {
      "image/png": "[encoded data removed]",
      "text/plain": [
       "<matplotlib.figure.Figure at 0x7fcd330fbd30>"
      ]
     },
     "metadata": {},
     "output_type": "display_data"
    }
   ],
   "source": [
    "# Visualização e teste das funções de ativação\n",
    "z = np.arange(-5., 5., 0.2)\n",
    "sigmoid = []\n",
    "for i in range(len(z)):\n",
    "    sigmoid.append(activation_func('degrau', z[i]))\n",
    "\n",
    "plt.plot(z,sigmoid)\n",
    "plt.show()"
   ]
  },
  {
   "cell_type": "code",
   "execution_count": 26,
   "metadata": {},
   "outputs": [],
   "source": [
    "# Etapa feedforward\n",
    "w,b = weight_init(2)\n",
    "def propagate(w,b,X,Y):\n",
    "    z = np.dot(w,X)\n",
    "    out = activation_func('degrau', z)\n",
    "    return out"
   ]
  },
  {
   "cell_type": "code",
   "execution_count": 27,
   "metadata": {},
   "outputs": [],
   "source": [
    "# Faz a predição da saída\n",
    "def predict(z):\n",
    "    return (z>0.5)"
   ]
  },
  {
   "cell_type": "code",
   "execution_count": 28,
   "metadata": {},
   "outputs": [
    {
     "name": "stdout",
     "output_type": "stream",
     "text": [
      "[[ True False False False False False False False]]\n",
      "[[ True False False False False False False False]]\n",
      "[0 0 0 0 0 0 0 1]\n"
     ]
    }
   ],
   "source": [
    "## AND Gate\n",
    "#x = np.array([[0,0],[1,1],[1,0],[0,1]]).T \n",
    "#y = np.array([0,1,0,0])\n",
    "\n",
    "## AND Gate com 3 entradas\n",
    "x = np.array([[0,0,0],[0,0,1],[0,1,0],[0,1,1],\n",
    "            [1,0,0],[1,0,1],[1,1,0],[1,1,1]]).T \n",
    "y = np.array([0,0,0,0,0,0,0,1])\n",
    "\n",
    "## OR Gate\n",
    "#x = np.array([[0,0],[1,1],[1,0],[0,1]]).T \n",
    "#y = np.array([0,1,1,1])\n",
    "\n",
    "w,b = weight_init(3)\n",
    "for j in range(1000):\n",
    "    y_pred = propagate(w,b,x,y)\n",
    "    erro = y - y_pred\n",
    "    w += np.dot(erro*0.2, x.T)\n",
    "\n",
    "print(y_pred)\n",
    "print(predict(y_pred))\n",
    "print(y)"
   ]
  },
  {
   "cell_type": "code",
   "execution_count": null,
   "metadata": {
    "collapsed": true
   },
   "outputs": [],
   "source": []
  }
 ],
 "metadata": {
  "kernelspec": {
   "display_name": "Python 3",
   "language": "python",
   "name": "python3"
  },
  "language_info": {
   "codemirror_mode": {
    "name": "ipython",
    "version": 3
   },
   "file_extension": ".py",
   "mimetype": "text/x-python",
   "name": "python",
   "nbconvert_exporter": "python",
   "pygments_lexer": "ipython3",
   "version": "3.4.3"
  }
 },
 "nbformat": 4,
 "nbformat_minor": 2
}
