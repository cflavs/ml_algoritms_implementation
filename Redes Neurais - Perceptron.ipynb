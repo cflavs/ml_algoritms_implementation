{
 "cells": [
  {
   "cell_type": "code",
   "execution_count": 4,
   "metadata": {
    "collapsed": true
   },
   "outputs": [],
   "source": [
    "import numpy as np\n",
    "import matplotlib.pyplot as plt\n",
    "from scipy.interpolate import spline"
   ]
  },
  {
   "cell_type": "code",
   "execution_count": 24,
   "metadata": {
    "collapsed": true
   },
   "outputs": [],
   "source": [
    "X = [[0,1],[1,0],[0,0],[1,1]]\n",
    "Y = [1,1,1,0]"
   ]
  },
  {
   "cell_type": "code",
   "execution_count": 14,
   "metadata": {
    "collapsed": false
   },
   "outputs": [],
   "source": [
    "#initializa os pesos aleatoriamente e zera o bias\n",
    "def weight_init(num_inputs):\n",
    "    w = np.random.randn(num_inputs)*0.01\n",
    "    b = 0\n",
    "    return w,b"
   ]
  },
  {
   "cell_type": "code",
   "execution_count": 11,
   "metadata": {
    "collapsed": false
   },
   "outputs": [],
   "source": [
    "### Funções de ativação ####\n",
    "def activation_func(func_type, z):\n",
    "    if func_type == 'sigmoid':\n",
    "        return 1/(1+np.exp(-z))\n",
    "    elif func_type == 'tanh':\n",
    "        return (2/(1+np.exp(-2*z)) -1)\n",
    "    elif func_type == 'relu':\n",
    "        return z * (z > 0)\n",
    "    elif func_type == 'degrau':\n",
    "        return z>=0"
   ]
  },
  {
   "cell_type": "code",
   "execution_count": 12,
   "metadata": {
    "collapsed": false
   },
   "outputs": [
    {
     "data": {
      "image/png": "[encoded data removed]",
      "text/plain": [
       "<matplotlib.figure.Figure at 0x7f712a03e450>"
      ]
     },
     "metadata": {},
     "output_type": "display_data"
    }
   ],
   "source": [
    "# Visualização e teste das funções de ativação\n",
    "#z = np.array([-6,-4,-2,0,2,4,6])\n",
    "z = np.arange(-5., 5., 0.2)\n",
    "sigmoid = []\n",
    "for i in range(len(z)):\n",
    "    sigmoid.append(activation_func('sigmoid', z[i]))\n",
    "\n",
    "#xnew = np.linspace(z.min(),z.max(),500)\n",
    "#power_smooth = spline(z,sigmoid,xnew)\n",
    "\n",
    "plt.plot(z,sigmoid)\n",
    "plt.show()"
   ]
  },
  {
   "cell_type": "code",
   "execution_count": 88,
   "metadata": {
    "collapsed": false
   },
   "outputs": [],
   "source": [
    "# Etapa feedforward\n",
    "\n",
    "w,b = weight_init(len(X[0]))\n",
    "\n",
    "def propagate(w,b,X,Y):\n",
    "    z = np.sum(np.dot(w.T,X[0]))\n",
    "    out = activation_func('sigmoid', z)\n",
    "    return out\n",
    "out = propagate(w,b,X,Y)"
   ]
  },
  {
   "cell_type": "code",
   "execution_count": 92,
   "metadata": {
    "collapsed": false
   },
   "outputs": [],
   "source": [
    "# Faz a predição da saída\n",
    "def predict(z):\n",
    "    return (z>=0.5)"
   ]
  },
  {
   "cell_type": "code",
   "execution_count": 93,
   "metadata": {
    "collapsed": false
   },
   "outputs": [
    {
     "data": {
      "text/plain": [
       "False"
      ]
     },
     "execution_count": 93,
     "metadata": {},
     "output_type": "execute_result"
    }
   ],
   "source": [
    "predict(out)"
   ]
  },
  {
   "cell_type": "code",
   "execution_count": 94,
   "metadata": {
    "collapsed": false
   },
   "outputs": [
    {
     "data": {
      "text/plain": [
       "0.49527288195683966"
      ]
     },
     "execution_count": 94,
     "metadata": {},
     "output_type": "execute_result"
    }
   ],
   "source": [
    "out"
   ]
  },
  {
   "cell_type": "code",
   "execution_count": null,
   "metadata": {
    "collapsed": true
   },
   "outputs": [],
   "source": []
  }
 ],
 "metadata": {
  "kernelspec": {
   "display_name": "Python 2",
   "language": "python",
   "name": "python2"
  },
  "language_info": {
   "codemirror_mode": {
    "name": "ipython",
    "version": 2
   },
   "file_extension": ".py",
   "mimetype": "text/x-python",
   "name": "python",
   "nbconvert_exporter": "python",
   "pygments_lexer": "ipython2",
   "version": "2.7.13"
  }
 },
 "nbformat": 4,
 "nbformat_minor": 2
}
