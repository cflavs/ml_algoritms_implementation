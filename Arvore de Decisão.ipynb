{
 "cells": [
  {
   "cell_type": "code",
   "execution_count": 45,
   "metadata": {
    "collapsed": true
   },
   "outputs": [],
   "source": [
    "#imports\n",
    "import numpy as np\n",
    "import pandas as pd"
   ]
  },
  {
   "cell_type": "code",
   "execution_count": 77,
   "metadata": {
    "collapsed": true
   },
   "outputs": [],
   "source": [
    "## dataset\n",
    "data = {'tempo':['sol','sol','nublado', 'chuva', 'chuva', 'chuva', 'nublado',\n",
    "                 'sol', 'sol', 'chuva', 'sol', 'nublado', 'nublado', 'chuva'],\n",
    "       'temperatura':['quente','quente','quente', 'suave', 'ok', 'ok', 'ok',\n",
    "                 'suave', 'ok', 'suave', 'suave', 'suave', 'quente', 'quente'],\n",
    "       'umidade': ['alta', 'alta', 'alta', 'alta', 'normal', 'normal', 'normal',\n",
    "                  'alta', 'normal', 'normal','normal','alta','normal', 'alta'],\n",
    "       'vento': ['nao', 'sim', 'nao', 'nao', 'nao', 'sim', 'sim','nao','nao', \n",
    "                 'nao', 'sim', 'sim', 'nao', 'sim'],\n",
    "       'joga': ['nao', 'nao', 'sim','sim','sim','nao','sim','nao','sim','sim','sim','sim','sim','nao']}"
   ]
  },
  {
   "cell_type": "code",
   "execution_count": 18,
   "metadata": {
    "collapsed": true
   },
   "outputs": [],
   "source": [
    "def entropy(positive,negative):\n",
    "    total = positive+negative\n",
    "    return -(positive/total)*np.log2(positive/total) - (negative/total)*np.log2(negative/total);"
   ]
  },
  {
   "cell_type": "code",
   "execution_count": 19,
   "metadata": {
    "collapsed": false
   },
   "outputs": [
    {
     "data": {
      "text/plain": [
       "0.94028595867063092"
      ]
     },
     "execution_count": 19,
     "metadata": {},
     "output_type": "execute_result"
    }
   ],
   "source": [
    "entropy(9.0,5.0)"
   ]
  },
  {
   "cell_type": "code",
   "execution_count": 29,
   "metadata": {
    "collapsed": true
   },
   "outputs": [],
   "source": [
    "def gain(positive,negative, entropy_positive, entropy_negative):\n",
    "    total = positive+negative\n",
    "    return 1 - (positive/total*entropy_positive) - (negative/total*entropy_negative)"
   ]
  },
  {
   "cell_type": "code",
   "execution_count": 30,
   "metadata": {
    "collapsed": false
   },
   "outputs": [
    {
     "data": {
      "text/plain": [
       "0.03510000000000002"
      ]
     },
     "execution_count": 30,
     "metadata": {},
     "output_type": "execute_result"
    }
   ],
   "source": [
    "gain(7.0,3.0,0.985,0.918)"
   ]
  },
  {
   "cell_type": "code",
   "execution_count": 100,
   "metadata": {
    "collapsed": false
   },
   "outputs": [],
   "source": [
    "df = pd.DataFrame(data)\n",
    "#frequency = df['tempo'].value_counts()\n",
    "\n",
    "#df.groupby(['joga','tempo']).count()\n",
    "\n",
    "#df.groupby(['joga','tempo']).count()\n"
   ]
  },
  {
   "cell_type": "code",
   "execution_count": null,
   "metadata": {
    "collapsed": true
   },
   "outputs": [],
   "source": []
  }
 ],
 "metadata": {
  "kernelspec": {
   "display_name": "Python 2",
   "language": "python",
   "name": "python2"
  },
  "language_info": {
   "codemirror_mode": {
    "name": "ipython",
    "version": 2
   },
   "file_extension": ".py",
   "mimetype": "text/x-python",
   "name": "python",
   "nbconvert_exporter": "python",
   "pygments_lexer": "ipython2",
   "version": "2.7.13"
  }
 },
 "nbformat": 4,
 "nbformat_minor": 2
}
