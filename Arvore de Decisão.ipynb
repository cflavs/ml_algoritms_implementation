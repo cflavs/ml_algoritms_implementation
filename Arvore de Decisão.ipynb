{
 "cells": [
  {
   "cell_type": "code",
   "execution_count": 3,
   "metadata": {},
   "outputs": [],
   "source": [
    "#imports\n",
    "import numpy as np\n",
    "import pandas as pd"
   ]
  },
  {
   "cell_type": "code",
   "execution_count": 4,
   "metadata": {},
   "outputs": [],
   "source": [
    "data = [['Sol'    , 'quente', 'alta', 'Não', 'Não'],\n",
    "        ['Sol'    , 'quente', 'alta', 'Sim', 'Não'],\n",
    "        ['Nublado', 'quente', 'alta', 'Não', 'Sim'],\n",
    "        ['Chuva'  , 'moderada', 'alta', 'Não', 'Sim'],\n",
    "        ['Chuva'  , 'fria', 'normal', 'Não', 'Sim'],\n",
    "        ['Chuva'  , 'fria', 'normal', 'Sim', 'Não'],\n",
    "        ['Nublado', 'fria', 'normal', 'Sim', 'Sim'],\n",
    "        ['Sol'    , 'moderada', 'alta', 'Não', 'Não'],\n",
    "        ['Sol'    , 'fria', 'normal', 'Não', 'Sim'],\n",
    "        ['Chuva'  , 'moderada', 'normal', 'Não', 'Sim'],\n",
    "        ['Sol'    , 'moderada', 'normal', 'Sim', 'Sim'],\n",
    "        ['Nublado', 'moderada', 'alta', 'Sim', 'Sim'],\n",
    "        ['Nublado', 'quente', 'normal', 'Não', 'Sim'],\n",
    "        ['Chuva'  , 'moderada', 'alta', 'Sim', 'Não'],\n",
    "       ];\n",
    "\n",
    "df = pd.DataFrame(data)"
   ]
  },
  {
   "cell_type": "code",
   "execution_count": 5,
   "metadata": {},
   "outputs": [
    {
     "data": {
      "text/html": [
       "<div>\n",
       "<style scoped>\n",
       "    .dataframe tbody tr th:only-of-type {\n",
       "        vertical-align: middle;\n",
       "    }\n",
       "\n",
       "    .dataframe tbody tr th {\n",
       "        vertical-align: top;\n",
       "    }\n",
       "\n",
       "    .dataframe thead th {\n",
       "        text-align: right;\n",
       "    }\n",
       "</style>\n",
       "<table border=\"1\" class=\"dataframe\">\n",
       "  <thead>\n",
       "    <tr style=\"text-align: right;\">\n",
       "      <th></th>\n",
       "      <th>0</th>\n",
       "      <th>1</th>\n",
       "      <th>2</th>\n",
       "      <th>3</th>\n",
       "      <th>4</th>\n",
       "    </tr>\n",
       "  </thead>\n",
       "  <tbody>\n",
       "    <tr>\n",
       "      <th>0</th>\n",
       "      <td>Sol</td>\n",
       "      <td>quente</td>\n",
       "      <td>alta</td>\n",
       "      <td>Não</td>\n",
       "      <td>Não</td>\n",
       "    </tr>\n",
       "    <tr>\n",
       "      <th>1</th>\n",
       "      <td>Sol</td>\n",
       "      <td>quente</td>\n",
       "      <td>alta</td>\n",
       "      <td>Sim</td>\n",
       "      <td>Não</td>\n",
       "    </tr>\n",
       "    <tr>\n",
       "      <th>2</th>\n",
       "      <td>Nublado</td>\n",
       "      <td>quente</td>\n",
       "      <td>alta</td>\n",
       "      <td>Não</td>\n",
       "      <td>Sim</td>\n",
       "    </tr>\n",
       "    <tr>\n",
       "      <th>3</th>\n",
       "      <td>Chuva</td>\n",
       "      <td>moderada</td>\n",
       "      <td>alta</td>\n",
       "      <td>Não</td>\n",
       "      <td>Sim</td>\n",
       "    </tr>\n",
       "    <tr>\n",
       "      <th>4</th>\n",
       "      <td>Chuva</td>\n",
       "      <td>fria</td>\n",
       "      <td>normal</td>\n",
       "      <td>Não</td>\n",
       "      <td>Sim</td>\n",
       "    </tr>\n",
       "  </tbody>\n",
       "</table>\n",
       "</div>"
      ],
      "text/plain": [
       "         0         1       2    3    4\n",
       "0      Sol    quente    alta  Não  Não\n",
       "1      Sol    quente    alta  Sim  Não\n",
       "2  Nublado    quente    alta  Não  Sim\n",
       "3    Chuva  moderada    alta  Não  Sim\n",
       "4    Chuva      fria  normal  Não  Sim"
      ]
     },
     "execution_count": 5,
     "metadata": {},
     "output_type": "execute_result"
    }
   ],
   "source": [
    "df.head()"
   ]
  },
  {
   "cell_type": "code",
   "execution_count": 6,
   "metadata": {},
   "outputs": [],
   "source": [
    "def entropy(positive,negative):\n",
    "    total = positive+negative\n",
    "    if positive == negative:\n",
    "        return 1\n",
    "    elif negative == 0 or positive==0:\n",
    "        return 0\n",
    "    else: \n",
    "        return -(positive/total)*np.log2(positive/total) - (negative/total)*np.log2(negative/total);"
   ]
  },
  {
   "cell_type": "code",
   "execution_count": 7,
   "metadata": {},
   "outputs": [
    {
     "data": {
      "text/plain": [
       "0.94028595867063092"
      ]
     },
     "execution_count": 7,
     "metadata": {},
     "output_type": "execute_result"
    }
   ],
   "source": [
    "entropy(9.0,5.0)"
   ]
  },
  {
   "cell_type": "code",
   "execution_count": 8,
   "metadata": {},
   "outputs": [],
   "source": [
    "def gain(entropyAtt,attFreqs,totalEntropy):\n",
    "    g=[]   \n",
    "    for i in range(len(entropyAtt)):\n",
    "        g.append(totalEntropy - np.sum(np.dot(attFreqs[i],entropyAtt[i])))\n",
    "    return g"
   ]
  },
  {
   "cell_type": "code",
   "execution_count": 9,
   "metadata": {},
   "outputs": [
    {
     "data": {
      "text/plain": [
       "[5, 9]"
      ]
     },
     "execution_count": 9,
     "metadata": {},
     "output_type": "execute_result"
    }
   ],
   "source": [
    "df = pd.DataFrame(data)\n",
    "\n",
    "outputFreq = []\n",
    "outputNames = df.iloc[:,4].unique()\n",
    "totalOutputFreq = df.iloc[:,4].count()\n",
    "outputProb = []\n",
    "\n",
    "for i in range(len(outputNames)):\n",
    "    outputFreq.append(df.iloc[:,4][df.iloc[:,4] == outputNames[i]].count())\n",
    "    outputProb.append(outputFreq[i]/totalOutputFreq)\n",
    "\n",
    "outputFreq"
   ]
  },
  {
   "cell_type": "code",
   "execution_count": 10,
   "metadata": {},
   "outputs": [],
   "source": [
    "attributesFreq = [[]]\n",
    "conditionalFreq = [[]]\n",
    "attN = []\n",
    "for i in range(df.shape[1]-1):\n",
    "    attNames = df.iloc[:,i].unique()\n",
    "    attN.append(attNames)\n",
    "    for j in range(len(attNames)):\n",
    "        for k in range(len(outputNames)):\n",
    "            conditionalFreq[i].append(df.iloc[:,4][(df.iloc[:,4] == outputNames[k])][df.iloc[:,i]== attNames[j]].count())\n",
    "    if i < df.shape[1]-2:\n",
    "        #attributesFreq.append([])\n",
    "        conditionalFreq.append([])\n"
   ]
  },
  {
   "cell_type": "code",
   "execution_count": 11,
   "metadata": {},
   "outputs": [
    {
     "data": {
      "text/plain": [
       "'Sol'"
      ]
     },
     "execution_count": 11,
     "metadata": {},
     "output_type": "execute_result"
    }
   ],
   "source": [
    "attN[0][0]"
   ]
  },
  {
   "cell_type": "code",
   "execution_count": 12,
   "metadata": {},
   "outputs": [],
   "source": [
    "entropyAtt = [[]]\n",
    "for i in range(len(conditionalFreq)):\n",
    "    for j in range(0,len(conditionalFreq[i]),2):\n",
    "        entropyAtt[i].append(entropy(conditionalFreq[i][j+1],conditionalFreq[i][j]))\n",
    "    if i < df.shape[1]-2:\n",
    "        entropyAtt.append([])"
   ]
  },
  {
   "cell_type": "code",
   "execution_count": null,
   "metadata": {},
   "outputs": [],
   "source": []
  },
  {
   "cell_type": "code",
   "execution_count": 13,
   "metadata": {},
   "outputs": [],
   "source": [
    "attFreqs = [[]]\n",
    "for i in range(len(conditionalFreq)):\n",
    "    for j in range(0,len(conditionalFreq[i]),2):\n",
    "        attFreqs[i].append((conditionalFreq[i][j]+conditionalFreq[i][j+1])/14)\n",
    "    if i < df.shape[1]-2:\n",
    "        attFreqs.append([])"
   ]
  },
  {
   "cell_type": "code",
   "execution_count": 14,
   "metadata": {},
   "outputs": [
    {
     "data": {
      "text/plain": [
       "[13.306463861103808, 13.088936606988323, 13.21154954269171, 13.107841071737639]"
      ]
     },
     "execution_count": 14,
     "metadata": {},
     "output_type": "execute_result"
    }
   ],
   "source": [
    "gain(entropyAtt,attFreqs,14)"
   ]
  },
  {
   "cell_type": "code",
   "execution_count": 15,
   "metadata": {},
   "outputs": [
    {
     "data": {
      "text/html": [
       "<div>\n",
       "<style scoped>\n",
       "    .dataframe tbody tr th:only-of-type {\n",
       "        vertical-align: middle;\n",
       "    }\n",
       "\n",
       "    .dataframe tbody tr th {\n",
       "        vertical-align: top;\n",
       "    }\n",
       "\n",
       "    .dataframe thead th {\n",
       "        text-align: right;\n",
       "    }\n",
       "</style>\n",
       "<table border=\"1\" class=\"dataframe\">\n",
       "  <thead>\n",
       "    <tr style=\"text-align: right;\">\n",
       "      <th></th>\n",
       "      <th>0</th>\n",
       "      <th>1</th>\n",
       "      <th>2</th>\n",
       "      <th>3</th>\n",
       "      <th>4</th>\n",
       "    </tr>\n",
       "  </thead>\n",
       "  <tbody>\n",
       "    <tr>\n",
       "      <th>0</th>\n",
       "      <td>Sol</td>\n",
       "      <td>quente</td>\n",
       "      <td>alta</td>\n",
       "      <td>Não</td>\n",
       "      <td>Não</td>\n",
       "    </tr>\n",
       "    <tr>\n",
       "      <th>1</th>\n",
       "      <td>Sol</td>\n",
       "      <td>quente</td>\n",
       "      <td>alta</td>\n",
       "      <td>Sim</td>\n",
       "      <td>Não</td>\n",
       "    </tr>\n",
       "    <tr>\n",
       "      <th>7</th>\n",
       "      <td>Sol</td>\n",
       "      <td>moderada</td>\n",
       "      <td>alta</td>\n",
       "      <td>Não</td>\n",
       "      <td>Não</td>\n",
       "    </tr>\n",
       "    <tr>\n",
       "      <th>8</th>\n",
       "      <td>Sol</td>\n",
       "      <td>fria</td>\n",
       "      <td>normal</td>\n",
       "      <td>Não</td>\n",
       "      <td>Sim</td>\n",
       "    </tr>\n",
       "    <tr>\n",
       "      <th>10</th>\n",
       "      <td>Sol</td>\n",
       "      <td>moderada</td>\n",
       "      <td>normal</td>\n",
       "      <td>Sim</td>\n",
       "      <td>Sim</td>\n",
       "    </tr>\n",
       "  </tbody>\n",
       "</table>\n",
       "</div>"
      ],
      "text/plain": [
       "      0         1       2    3    4\n",
       "0   Sol    quente    alta  Não  Não\n",
       "1   Sol    quente    alta  Sim  Não\n",
       "7   Sol  moderada    alta  Não  Não\n",
       "8   Sol      fria  normal  Não  Sim\n",
       "10  Sol  moderada  normal  Sim  Sim"
      ]
     },
     "execution_count": 15,
     "metadata": {},
     "output_type": "execute_result"
    }
   ],
   "source": [
    "value_list = ['Sol']\n",
    "df[df.iloc[:,0].isin(value_list)]"
   ]
  },
  {
   "cell_type": "code",
   "execution_count": 16,
   "metadata": {},
   "outputs": [],
   "source": [
    "#endOfTree=1\n",
    "#while endOfTree != 0: \n",
    "#    value_list = ['Sol']\n",
    "#    df_s = df[df.iloc[:,0].isin(value_list)]\n",
    "#    probs = getProb(df_s)\n",
    "#    print(probs)\n",
    "#    entropies = calcEntropy(probs)\n",
    "#    print(entropies)\n",
    "    #freqs = getTotalFreq(probs,df_s.shape[0])\n",
    "    #gainNode = gain(entropies,freqs,entropy(conditionalFreq[0][0],conditionalFreq[0][1]))\n",
    "    #print(gainNode)\n",
    "#    endOfTree=0\n",
    "    \n",
    "        "
   ]
  },
  {
   "cell_type": "code",
   "execution_count": 17,
   "metadata": {},
   "outputs": [],
   "source": [
    "def getProb(df):\n",
    "    conditionalFreq = [[]]\n",
    "    for i in range(df.shape[1]):\n",
    "        print(i)\n",
    "        attributeNames = df.iloc[:,i].unique()\n",
    "        print(attributeNames)\n",
    "        for j in range(len(attributeNames)):\n",
    "            for k in range(len(outputNames)):\n",
    "                conditionalFreq[i].append(df.iloc[:,i][(df.iloc[:,i] == attributeNames[j])][df.iloc[:,i]== outputNames[k]].count())\n",
    "        if i < df.shape[1]-2:\n",
    "            #attributesFreq.append([])\n",
    "            conditionalFreq.append([])\n",
    "        return conditionalFreq"
   ]
  },
  {
   "cell_type": "code",
   "execution_count": 18,
   "metadata": {},
   "outputs": [],
   "source": [
    "def getTotalFreq(conditionalFreq, n_samples):\n",
    "    attFreqs = [[]]\n",
    "    for i in range(len(conditionalFreq)):\n",
    "        for j in range(0,len(conditionalFreq[i]),2):\n",
    "            attFreqs[i].append((conditionalFreq[i][j]+conditionalFreq[i][j+1])/n_samples)\n",
    "        if i < df.shape[1]-2:\n",
    "            attFreqs.append([])\n",
    "    return attFreqs"
   ]
  },
  {
   "cell_type": "code",
   "execution_count": 19,
   "metadata": {},
   "outputs": [],
   "source": [
    "def calcEntropy(conditionalFreq):\n",
    "    entropyAtt = [[]]\n",
    "    for i in range(len(conditionalFreq)):\n",
    "        for j in range(0,len(conditionalFreq[i]),2):\n",
    "            entropyAtt[i].append(entropy(conditionalFreq[i][j+1],conditionalFreq[i][j]))\n",
    "        if i < df.shape[1]-2:\n",
    "            entropyAtt.append([])"
   ]
  },
  {
   "cell_type": "code",
   "execution_count": 20,
   "metadata": {},
   "outputs": [
    {
     "ename": "NameError",
     "evalue": "name 'attributeNames' is not defined",
     "output_type": "error",
     "traceback": [
      "\u001b[0;31m---------------------------------------------------------------------------\u001b[0m",
      "\u001b[0;31mNameError\u001b[0m                                 Traceback (most recent call last)",
      "\u001b[0;32m<ipython-input-20-3906c4a101ee>\u001b[0m in \u001b[0;36m<module>\u001b[0;34m()\u001b[0m\n\u001b[0;32m----> 1\u001b[0;31m \u001b[0mattributeNames\u001b[0m\u001b[0;34m\u001b[0m\u001b[0m\n\u001b[0m",
      "\u001b[0;31mNameError\u001b[0m: name 'attributeNames' is not defined"
     ]
    }
   ],
   "source": [
    "attributeNames"
   ]
  },
  {
   "cell_type": "code",
   "execution_count": 21,
   "metadata": {},
   "outputs": [
    {
     "data": {
      "text/plain": [
       "[[0.35714285714285715, 0.2857142857142857, 0.35714285714285715],\n",
       " [0.2857142857142857, 0.42857142857142855, 0.2857142857142857],\n",
       " [0.5, 0.5],\n",
       " [0.5714285714285714, 0.42857142857142855]]"
      ]
     },
     "execution_count": 21,
     "metadata": {},
     "output_type": "execute_result"
    }
   ],
   "source": [
    "attFreqs"
   ]
  },
  {
   "cell_type": "code",
   "execution_count": 22,
   "metadata": {},
   "outputs": [
    {
     "data": {
      "text/plain": [
       "[[0.97095059445466858, 0, 0.97095059445466858],\n",
       " [1, 0.91829583405448956, 0.81127812445913283],\n",
       " [0.98522813603425152, 0.59167277858232747],\n",
       " [0.81127812445913283, 1]]"
      ]
     },
     "execution_count": 22,
     "metadata": {},
     "output_type": "execute_result"
    }
   ],
   "source": [
    "entropyAtt"
   ]
  },
  {
   "cell_type": "code",
   "execution_count": 23,
   "metadata": {},
   "outputs": [
    {
     "data": {
      "text/plain": [
       "[[3, 2, 0, 4, 2, 3], [2, 2, 2, 4, 1, 3], [4, 3, 1, 6], [2, 6, 3, 3]]"
      ]
     },
     "execution_count": 23,
     "metadata": {},
     "output_type": "execute_result"
    }
   ],
   "source": [
    "conditionalFreq"
   ]
  },
  {
   "cell_type": "code",
   "execution_count": 24,
   "metadata": {},
   "outputs": [
    {
     "data": {
      "text/plain": [
       "2     quente\n",
       "12    quente\n",
       "Name: 1, dtype: object"
      ]
     },
     "execution_count": 24,
     "metadata": {},
     "output_type": "execute_result"
    }
   ],
   "source": [
    "df.iloc[:,1][(df.iloc[:,1] == 'quente')][df.iloc[:,4]== 'Sim']"
   ]
  },
  {
   "cell_type": "code",
   "execution_count": 25,
   "metadata": {},
   "outputs": [
    {
     "data": {
      "text/plain": [
       "[0.24646386110380814,\n",
       " 0.028936606988323677,\n",
       " 0.15154954269171039,\n",
       " 0.047841071737638297]"
      ]
     },
     "execution_count": 25,
     "metadata": {},
     "output_type": "execute_result"
    }
   ],
   "source": [
    "gain(entropyAtt,attFreqs,0.94)"
   ]
  },
  {
   "cell_type": "code",
   "execution_count": 38,
   "metadata": {},
   "outputs": [
    {
     "data": {
      "text/plain": [
       "[array(['Sol', 'Nublado', 'Chuva'], dtype=object),\n",
       " array(['quente', 'moderada', 'fria'], dtype=object),\n",
       " array(['alta', 'normal'], dtype=object),\n",
       " array(['Não', 'Sim'], dtype=object)]"
      ]
     },
     "execution_count": 38,
     "metadata": {},
     "output_type": "execute_result"
    }
   ],
   "source": [
    "attN"
   ]
  },
  {
   "cell_type": "code",
   "execution_count": null,
   "metadata": {},
   "outputs": [],
   "source": []
  },
  {
   "cell_type": "code",
   "execution_count": 48,
   "metadata": {},
   "outputs": [
    {
     "ename": "AttributeError",
     "evalue": "'numpy.int64' object has no attribute 'append'",
     "output_type": "error",
     "traceback": [
      "\u001b[0;31m---------------------------------------------------------------------------\u001b[0m",
      "\u001b[0;31mAttributeError\u001b[0m                            Traceback (most recent call last)",
      "\u001b[0;32m<ipython-input-48-74159df326c4>\u001b[0m in \u001b[0;36m<module>\u001b[0;34m()\u001b[0m\n\u001b[1;32m     14\u001b[0m         \u001b[0mf\u001b[0m \u001b[0;34m=\u001b[0m \u001b[0mgetFreqs\u001b[0m\u001b[0;34m(\u001b[0m\u001b[0mp\u001b[0m\u001b[0;34m,\u001b[0m \u001b[0mdf_s\u001b[0m\u001b[0;34m.\u001b[0m\u001b[0mshape\u001b[0m\u001b[0;34m[\u001b[0m\u001b[0;36m0\u001b[0m\u001b[0;34m]\u001b[0m\u001b[0;34m)\u001b[0m\u001b[0;34m\u001b[0m\u001b[0m\n\u001b[1;32m     15\u001b[0m         \u001b[0mg\u001b[0m \u001b[0;34m=\u001b[0m \u001b[0mgain\u001b[0m\u001b[0;34m(\u001b[0m\u001b[0ms\u001b[0m\u001b[0;34m,\u001b[0m\u001b[0mf\u001b[0m\u001b[0;34m,\u001b[0m\u001b[0mnodeEntropy\u001b[0m\u001b[0;34m)\u001b[0m\u001b[0;34m\u001b[0m\u001b[0m\n\u001b[0;32m---> 16\u001b[0;31m         \u001b[0mtree\u001b[0m\u001b[0;34m[\u001b[0m\u001b[0mj\u001b[0m\u001b[0;34m]\u001b[0m\u001b[0;34m.\u001b[0m\u001b[0mappend\u001b[0m\u001b[0;34m(\u001b[0m\u001b[0;34m[\u001b[0m\u001b[0mattN\u001b[0m\u001b[0;34m[\u001b[0m\u001b[0mmaxindex\u001b[0m\u001b[0;34m]\u001b[0m\u001b[0;34m[\u001b[0m\u001b[0mi\u001b[0m\u001b[0;34m]\u001b[0m\u001b[0;34m,\u001b[0m\u001b[0mnp\u001b[0m\u001b[0;34m.\u001b[0m\u001b[0margmax\u001b[0m\u001b[0;34m(\u001b[0m\u001b[0mg\u001b[0m\u001b[0;34m)\u001b[0m\u001b[0;34m]\u001b[0m\u001b[0;34m)\u001b[0m\u001b[0;34m\u001b[0m\u001b[0m\n\u001b[0m\u001b[1;32m     17\u001b[0m         \u001b[0mprint\u001b[0m\u001b[0;34m(\u001b[0m\u001b[0mg\u001b[0m\u001b[0;34m)\u001b[0m\u001b[0;34m\u001b[0m\u001b[0m\n\u001b[1;32m     18\u001b[0m         \u001b[0mj\u001b[0m\u001b[0;34m=\u001b[0m\u001b[0mj\u001b[0m\u001b[0;34m+\u001b[0m\u001b[0;36m1\u001b[0m\u001b[0;34m\u001b[0m\u001b[0m\n",
      "\u001b[0;31mAttributeError\u001b[0m: 'numpy.int64' object has no attribute 'append'"
     ]
    }
   ],
   "source": [
    "tree = [[]]\n",
    "maxg = np.max(gain(entropyAtt,attFreqs,0.94))\n",
    "maxindex = np.argmax(gain(entropyAtt,attFreqs,0.94))\n",
    "tree.append(maxindex)\n",
    "while maxg > 0:\n",
    "    for i in range(len(attN[maxindex])):\n",
    "        j=0\n",
    "        tree.append([])\n",
    "        value_list = [attN[maxindex][i]]\n",
    "        df_s = df[df.iloc[:,maxindex].isin(value_list)]\n",
    "        nodeEntropy = entropy(conditionalFreq[maxindex][0],conditionalFreq[maxindex][1])\n",
    "        p = getProb(df_s)\n",
    "        s = calcEntropy(p)\n",
    "        f = getFreqs(p, df_s.shape[0])\n",
    "        g = gain(s,f,nodeEntropy)\n",
    "        tree[j].append([attN[maxindex][i],np.argmax(g)])\n",
    "        print(g)\n",
    "        j=j+1\n",
    "    maxg=0\n",
    "    "
   ]
  },
  {
   "cell_type": "code",
   "execution_count": 44,
   "metadata": {},
   "outputs": [
    {
     "data": {
      "text/plain": [
       "[0, [['Sol', 2]], [['Nublado', 0]], [['Chuva', 3]]]"
      ]
     },
     "execution_count": 44,
     "metadata": {},
     "output_type": "execute_result"
    }
   ],
   "source": [
    "tree"
   ]
  },
  {
   "cell_type": "code",
   "execution_count": 28,
   "metadata": {},
   "outputs": [],
   "source": [
    "def getProb(df):\n",
    "    prob = [[]]\n",
    "    for i in range(df.shape[1]-1):\n",
    "        attributeNames = df.iloc[:,i].unique()\n",
    "        #print(attributeNames)\n",
    "        for j in range(len(attributeNames)):\n",
    "            for k in range(len(outputNames)):\n",
    "                prob[i].append(df.iloc[:,i][df.iloc[:,i]==attributeNames[j]][df.iloc[:,4]==outputNames[k]].count())\n",
    "        if i < df.shape[1]-2:\n",
    "            prob.append([])\n",
    "    return prob"
   ]
  },
  {
   "cell_type": "code",
   "execution_count": 29,
   "metadata": {},
   "outputs": [],
   "source": [
    "def calcEntropy(conditionalFreq):\n",
    "    entropyAtt = [[]]\n",
    "    for i in range(len(conditionalFreq)):\n",
    "        for j in range(0,len(conditionalFreq[i]),2):\n",
    "            entropyAtt[i].append(entropy(conditionalFreq[i][j+1],conditionalFreq[i][j]))\n",
    "        if i < df.shape[1]-2:\n",
    "            entropyAtt.append([])\n",
    "    return entropyAtt"
   ]
  },
  {
   "cell_type": "code",
   "execution_count": 30,
   "metadata": {},
   "outputs": [],
   "source": [
    "def gain(entropyAtt,attFreqs,totalEntropy):\n",
    "    g=[]   \n",
    "    for i in range(len(entropyAtt)):\n",
    "        g.append(totalEntropy - np.sum(np.dot(attFreqs[i],entropyAtt[i])))\n",
    "    return g"
   ]
  },
  {
   "cell_type": "code",
   "execution_count": 31,
   "metadata": {},
   "outputs": [],
   "source": [
    "def getFreqs(conditionalFreq,n_samples):\n",
    "    attFreqs = [[]]\n",
    "    for i in range(len(conditionalFreq)):\n",
    "        for j in range(0,len(conditionalFreq[i]),2):\n",
    "            attFreqs[i].append((conditionalFreq[i][j]+conditionalFreq[i][j+1])/n_samples)\n",
    "        if i < df.shape[1]-2:\n",
    "            attFreqs.append([])\n",
    "    return attFreqs"
   ]
  },
  {
   "cell_type": "code",
   "execution_count": null,
   "metadata": {},
   "outputs": [],
   "source": []
  },
  {
   "cell_type": "code",
   "execution_count": null,
   "metadata": {},
   "outputs": [],
   "source": []
  }
 ],
 "metadata": {
  "kernelspec": {
   "display_name": "Python 3",
   "language": "python",
   "name": "python3"
  },
  "language_info": {
   "codemirror_mode": {
    "name": "ipython",
    "version": 3
   },
   "file_extension": ".py",
   "mimetype": "text/x-python",
   "name": "python",
   "nbconvert_exporter": "python",
   "pygments_lexer": "ipython3",
   "version": "3.4.3"
  }
 },
 "nbformat": 4,
 "nbformat_minor": 2
}
