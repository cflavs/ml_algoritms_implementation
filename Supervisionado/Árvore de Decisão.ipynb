{
 "cells": [
  {
   "cell_type": "code",
   "execution_count": 1,
   "metadata": {},
   "outputs": [],
   "source": [
    "#imports\n",
    "import numpy as np\n",
    "import pandas as pd\n",
    "from sklearn.model_selection import train_test_split\n"
   ]
  },
  {
   "cell_type": "markdown",
   "metadata": {},
   "source": [
    "### Parte 1 - Leitura de Dataset\n",
    "\n",
    "A leitura do Dataset foi realizada utilizando o Pandas. A base é uma base que analisa se \n",
    "vai jogar ou não tênis baseado nos atributos: tempo, temperatura, umidade e vento."
   ]
  },
  {
   "cell_type": "code",
   "execution_count": 2,
   "metadata": {},
   "outputs": [],
   "source": [
    "data = [['Sol'    , 'quente', 'alta', 'Não', 'Não'],\n",
    "        ['Sol'    , 'quente', 'alta', 'Sim', 'Não'],\n",
    "        ['Nublado', 'quente', 'alta', 'Não', 'Sim'],\n",
    "        ['Chuva'  , 'moderada', 'alta', 'Não', 'Sim'],\n",
    "        ['Chuva'  , 'fria', 'normal', 'Não', 'Sim'],\n",
    "        ['Chuva'  , 'fria', 'normal', 'Sim', 'Não'],\n",
    "        ['Nublado', 'fria', 'normal', 'Sim', 'Sim'],\n",
    "        ['Sol'    , 'moderada', 'alta', 'Não', 'Não'],\n",
    "        ['Sol'    , 'fria', 'normal', 'Não', 'Sim'],\n",
    "        ['Chuva'  , 'moderada', 'normal', 'Não', 'Sim'],\n",
    "        ['Sol'    , 'moderada', 'normal', 'Sim', 'Sim'],\n",
    "        ['Nublado', 'moderada', 'alta', 'Sim', 'Sim'],\n",
    "        ['Nublado', 'quente', 'normal', 'Não', 'Sim'],\n",
    "        ['Chuva'  , 'moderada', 'alta', 'Sim', 'Não'],\n",
    "       ];\n",
    "\n",
    "df = pd.DataFrame(data)"
   ]
  },
  {
   "cell_type": "code",
   "execution_count": 3,
   "metadata": {},
   "outputs": [
    {
     "data": {
      "text/html": [
       "<div>\n",
       "<style scoped>\n",
       "    .dataframe tbody tr th:only-of-type {\n",
       "        vertical-align: middle;\n",
       "    }\n",
       "\n",
       "    .dataframe tbody tr th {\n",
       "        vertical-align: top;\n",
       "    }\n",
       "\n",
       "    .dataframe thead th {\n",
       "        text-align: right;\n",
       "    }\n",
       "</style>\n",
       "<table border=\"1\" class=\"dataframe\">\n",
       "  <thead>\n",
       "    <tr style=\"text-align: right;\">\n",
       "      <th></th>\n",
       "      <th>0</th>\n",
       "      <th>1</th>\n",
       "      <th>2</th>\n",
       "      <th>3</th>\n",
       "      <th>4</th>\n",
       "    </tr>\n",
       "  </thead>\n",
       "  <tbody>\n",
       "    <tr>\n",
       "      <th>0</th>\n",
       "      <td>Sol</td>\n",
       "      <td>quente</td>\n",
       "      <td>alta</td>\n",
       "      <td>Não</td>\n",
       "      <td>Não</td>\n",
       "    </tr>\n",
       "    <tr>\n",
       "      <th>1</th>\n",
       "      <td>Sol</td>\n",
       "      <td>quente</td>\n",
       "      <td>alta</td>\n",
       "      <td>Sim</td>\n",
       "      <td>Não</td>\n",
       "    </tr>\n",
       "    <tr>\n",
       "      <th>2</th>\n",
       "      <td>Nublado</td>\n",
       "      <td>quente</td>\n",
       "      <td>alta</td>\n",
       "      <td>Não</td>\n",
       "      <td>Sim</td>\n",
       "    </tr>\n",
       "    <tr>\n",
       "      <th>3</th>\n",
       "      <td>Chuva</td>\n",
       "      <td>moderada</td>\n",
       "      <td>alta</td>\n",
       "      <td>Não</td>\n",
       "      <td>Sim</td>\n",
       "    </tr>\n",
       "    <tr>\n",
       "      <th>4</th>\n",
       "      <td>Chuva</td>\n",
       "      <td>fria</td>\n",
       "      <td>normal</td>\n",
       "      <td>Não</td>\n",
       "      <td>Sim</td>\n",
       "    </tr>\n",
       "    <tr>\n",
       "      <th>5</th>\n",
       "      <td>Chuva</td>\n",
       "      <td>fria</td>\n",
       "      <td>normal</td>\n",
       "      <td>Sim</td>\n",
       "      <td>Não</td>\n",
       "    </tr>\n",
       "    <tr>\n",
       "      <th>6</th>\n",
       "      <td>Nublado</td>\n",
       "      <td>fria</td>\n",
       "      <td>normal</td>\n",
       "      <td>Sim</td>\n",
       "      <td>Sim</td>\n",
       "    </tr>\n",
       "    <tr>\n",
       "      <th>7</th>\n",
       "      <td>Sol</td>\n",
       "      <td>moderada</td>\n",
       "      <td>alta</td>\n",
       "      <td>Não</td>\n",
       "      <td>Não</td>\n",
       "    </tr>\n",
       "    <tr>\n",
       "      <th>8</th>\n",
       "      <td>Sol</td>\n",
       "      <td>fria</td>\n",
       "      <td>normal</td>\n",
       "      <td>Não</td>\n",
       "      <td>Sim</td>\n",
       "    </tr>\n",
       "    <tr>\n",
       "      <th>9</th>\n",
       "      <td>Chuva</td>\n",
       "      <td>moderada</td>\n",
       "      <td>normal</td>\n",
       "      <td>Não</td>\n",
       "      <td>Sim</td>\n",
       "    </tr>\n",
       "    <tr>\n",
       "      <th>10</th>\n",
       "      <td>Sol</td>\n",
       "      <td>moderada</td>\n",
       "      <td>normal</td>\n",
       "      <td>Sim</td>\n",
       "      <td>Sim</td>\n",
       "    </tr>\n",
       "    <tr>\n",
       "      <th>11</th>\n",
       "      <td>Nublado</td>\n",
       "      <td>moderada</td>\n",
       "      <td>alta</td>\n",
       "      <td>Sim</td>\n",
       "      <td>Sim</td>\n",
       "    </tr>\n",
       "    <tr>\n",
       "      <th>12</th>\n",
       "      <td>Nublado</td>\n",
       "      <td>quente</td>\n",
       "      <td>normal</td>\n",
       "      <td>Não</td>\n",
       "      <td>Sim</td>\n",
       "    </tr>\n",
       "    <tr>\n",
       "      <th>13</th>\n",
       "      <td>Chuva</td>\n",
       "      <td>moderada</td>\n",
       "      <td>alta</td>\n",
       "      <td>Sim</td>\n",
       "      <td>Não</td>\n",
       "    </tr>\n",
       "  </tbody>\n",
       "</table>\n",
       "</div>"
      ],
      "text/plain": [
       "          0         1       2    3    4\n",
       "0       Sol    quente    alta  Não  Não\n",
       "1       Sol    quente    alta  Sim  Não\n",
       "2   Nublado    quente    alta  Não  Sim\n",
       "3     Chuva  moderada    alta  Não  Sim\n",
       "4     Chuva      fria  normal  Não  Sim\n",
       "5     Chuva      fria  normal  Sim  Não\n",
       "6   Nublado      fria  normal  Sim  Sim\n",
       "7       Sol  moderada    alta  Não  Não\n",
       "8       Sol      fria  normal  Não  Sim\n",
       "9     Chuva  moderada  normal  Não  Sim\n",
       "10      Sol  moderada  normal  Sim  Sim\n",
       "11  Nublado  moderada    alta  Sim  Sim\n",
       "12  Nublado    quente  normal  Não  Sim\n",
       "13    Chuva  moderada    alta  Sim  Não"
      ]
     },
     "execution_count": 3,
     "metadata": {},
     "output_type": "execute_result"
    }
   ],
   "source": [
    "df"
   ]
  },
  {
   "cell_type": "markdown",
   "metadata": {},
   "source": [
    "### Parte 1 - Obter a frequência dos dados\n",
    "\n",
    "Para cálculo da entropia, deve-se descobrir a frequência do valor analisado.\n",
    "Para isso, utilizando o Pandas, a frequência é calculada através da condicional do valor do\n",
    "atributo existir na classe. Esse processo é repetido para cada classe até que todas as frequências\n",
    "sejam obtidas"
   ]
  },
  {
   "cell_type": "code",
   "execution_count": 4,
   "metadata": {},
   "outputs": [],
   "source": [
    "def getFrequency(data, classNames):\n",
    "    \"\"\"Funçaõ que calcula a frequencia dos atributos, recebe como entrada o dataframe\n",
    "    e o índice da coluna do atributo alvo.\n",
    "    Deve-se verificar se o dataframe existe, retornando frequencia 0 caso contrário.\n",
    "    Retorno: array de frequencias de cada classe para um dataframe\n",
    "    \"\"\"\n",
    "    frequency = []\n",
    "    for i in range(len(classNames)):\n",
    "        if len(data)==0:\n",
    "            frequency.append(0)\n",
    "        else:\n",
    "            frequency.append(data.iloc[:,data.shape[1]-1][data.iloc[:,data.shape[1]-1]==classNames[i]].count())\n",
    "    return frequency"
   ]
  },
  {
   "cell_type": "markdown",
   "metadata": {},
   "source": [
    "### Parte 2 - Entropia\n",
    "\n",
    "A árvore de decisão é baseada no ganho de informação e entropia. Dessa forma, para entropia,\n",
    "que define o grau de impureza da base de dados analisada (ou partição da mesma), calculada\n",
    "a partir de duas condições:\n",
    "    \n",
    "* se os atributos estiverem com mesma proporção para todas as classes de saída, \n",
    "a entropia é 1 (máxima).\n",
    "* se uma classe obtiver todos as instâncias, a entropia é 0 (mínima)\n",
    "* caso nenhum desses casos aconteça, a entropia deve ser calculada através da equação:\n",
    "    \n",
    "    $$ Entropia = - entropiaDaPartição * \\sum{log2(frequenciaDdeClasseX/totalDeInstancias)} $$\n",
    "\n"
   ]
  },
  {
   "cell_type": "code",
   "execution_count": 5,
   "metadata": {},
   "outputs": [],
   "source": [
    "def entropy(positive,negative):\n",
    "    total = positive+negative\n",
    "    if positive == negative:\n",
    "        return 1\n",
    "    elif negative == 0 or positive==0:\n",
    "        return 0\n",
    "    else: \n",
    "        return -(positive/total)*np.log2(positive/total) - (negative/total)*np.log2(negative/total);"
   ]
  },
  {
   "cell_type": "markdown",
   "metadata": {},
   "source": [
    "### Parte 3 - Dividir o dataset\n",
    "\n",
    "Para cada atributo deve-se dividir o dataset em n partições, onde n é o número de \n",
    "classes do problema (2 classes para esse caso)"
   ]
  },
  {
   "cell_type": "code",
   "execution_count": 6,
   "metadata": {},
   "outputs": [],
   "source": [
    "def divideset(data, column, value):\n",
    "    split_function = lambda row:row[column] == value\n",
    "        \n",
    "    set1 = [row for row in data if split_function(row)]\n",
    "    set2 = [row for row in data if not split_function(row)]\n",
    "    \n",
    "    #converte para dataframe\n",
    "    df1 = pd.DataFrame(set1)\n",
    "    df2 = pd.DataFrame(set2)\n",
    "    return (df1, df2)"
   ]
  },
  {
   "cell_type": "markdown",
   "metadata": {},
   "source": [
    "### Parte 5 - Estrutura da Árvore\n",
    "\n",
    "A árvore possui cinco nós: \n",
    "\n",
    "* o nó com o resultado final do atributo\n",
    "* Regra associada ao nó\n",
    "* Coluna do atributo\n",
    "* Os ramos do nó\n"
   ]
  },
  {
   "cell_type": "code",
   "execution_count": 7,
   "metadata": {},
   "outputs": [],
   "source": [
    "class DecisionNode:\n",
    "    def __init__(self, col=-1, value=None, results=None, tb=None, fb=None):\n",
    "        self.col = col          # indice da coluna do criterio a ser testado\n",
    "        self.value = value      # valor que deve satisfazer para conseguir um resultado verdadeiro\n",
    "        self.results = results  # armazena um dicionario dos resultado para esse ramo. None se o nó de decisão for folha.\n",
    "        self.tb = tb            # proximos nó na arvore se o resultado é true\n",
    "        self.fb = fb            # proximos nó na arvore se o resultado é false"
   ]
  },
  {
   "cell_type": "code",
   "execution_count": 8,
   "metadata": {},
   "outputs": [],
   "source": [
    "def tree(data):\n",
    "    if len(data)==0: #chegou na folha\n",
    "        return DecisionNode() #fim da árvore\n",
    "    best_gain,best_criteria, best_sets = 0.0, None, None\n",
    "    f = getFrequency(data, df.iloc[:,4].unique()) #calcula a frequencia do dataframe atual\n",
    "    current = entropy(f[0], f[1]) #calcula o valor da entropia atual\n",
    "    for col in range(data.shape[1]-1): #para cada atributo\n",
    "        # print('FIM DO SET')\n",
    "        gain = []\n",
    "        for row in range(data.shape[0]):\n",
    "            #divide o dataset baseado nas classes de saída\n",
    "            (set1,set2)  = divideset(data.values,col,data.iloc[row,col]) \n",
    "            p = float((len(set1)))/data.shape[0] #calcula a probabilidade do atributo\n",
    "            #calcula a frequencia de cada partição\n",
    "            f1 = getFrequency(set1,df.iloc[:,4].unique()) \n",
    "            f2 = getFrequency(set2, df.iloc[:,4].unique())\n",
    "            #calcula o ganho a partir das frequencias e da entropia calculadas\n",
    "            #para o dataframe\n",
    "            gain.append(current -p*entropy(f1[0],f1[1]) -(1-p)*entropy(f2[0],f2[1]))\n",
    "            g = np.max(gain) #retorna o maior ganho\n",
    "            if g > best_gain and len(set1) > 0 and len(set2) > 0: #se esse ganho é o maior \n",
    "                best_gain = g\n",
    "                best_criteria = (col, data.iloc[row,col]) #armazena valor do nó\n",
    "                best_sets = (set1,set2) #guarda as duas partiçõas dos ramos da árvore\n",
    "    if best_gain > 0:\n",
    "        true_branch = tree(best_sets[0])\n",
    "        false_branch = tree(best_sets[1])\n",
    "        return DecisionNode(col=best_criteria[0], value=best_criteria[1], tb=true_branch, fb=false_branch)\n",
    "    else:\n",
    "        return DecisionNode(results=f)\n",
    "        "
   ]
  },
  {
   "cell_type": "code",
   "execution_count": 9,
   "metadata": {},
   "outputs": [],
   "source": [
    "def printtree(tree, indent=''):\n",
    "    if tree.results != None:\n",
    "        print(tree.results)\n",
    "    else:\n",
    "        print('{0}:{1}?'.format(tree.col, tree.value))\n",
    "        print(indent+\"-\", end='')\n",
    "        printtree(tree.tb, indent + '  ')\n",
    "        print(indent+\"-\", end='')\n",
    "        printtree(tree.fb, indent + '  ')"
   ]
  },
  {
   "cell_type": "code",
   "execution_count": 10,
   "metadata": {},
   "outputs": [],
   "source": [
    "def classify(tree, sample):\n",
    "    if tree.results != None: return tree.results\n",
    "    else:\n",
    "        v = sample[tree.col]\n",
    "        branch = None\n",
    "        branch = tree.tb if v == tree.value else tree.fb\n",
    "        return classify(branch, sample)"
   ]
  },
  {
   "cell_type": "code",
   "execution_count": 11,
   "metadata": {},
   "outputs": [],
   "source": [
    "X_train, X_test = train_test_split(df, test_size=0.25,random_state=0)"
   ]
  },
  {
   "cell_type": "code",
   "execution_count": 12,
   "metadata": {},
   "outputs": [],
   "source": [
    "t = tree(X_train)"
   ]
  },
  {
   "cell_type": "code",
   "execution_count": 13,
   "metadata": {},
   "outputs": [
    {
     "name": "stdout",
     "output_type": "stream",
     "text": [
      "0:Nublado?\n",
      "-[0, 2]\n",
      "-1:moderada?\n",
      "  -2:alta?\n",
      "    -0:Chuva?\n",
      "      -3:Sim?\n",
      "        -[1, 0]\n",
      "        -[0, 1]\n",
      "      -[1, 0]\n",
      "    -[0, 2]\n",
      "  -[3, 0]\n"
     ]
    }
   ],
   "source": [
    "printtree(t)"
   ]
  },
  {
   "cell_type": "code",
   "execution_count": 14,
   "metadata": {},
   "outputs": [
    {
     "name": "stdout",
     "output_type": "stream",
     "text": [
      "[0, 2]\n"
     ]
    }
   ],
   "source": [
    "print(classify(t, X_test.iloc[1,:]))"
   ]
  }
 ],
 "metadata": {
  "kernelspec": {
   "display_name": "Python 3",
   "language": "python",
   "name": "python3"
  },
  "language_info": {
   "codemirror_mode": {
    "name": "ipython",
    "version": 3
   },
   "file_extension": ".py",
   "mimetype": "text/x-python",
   "name": "python",
   "nbconvert_exporter": "python",
   "pygments_lexer": "ipython3",
   "version": "3.6.3"
  }
 },
 "nbformat": 4,
 "nbformat_minor": 2
}
