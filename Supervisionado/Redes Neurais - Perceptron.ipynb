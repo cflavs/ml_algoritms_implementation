{
 "cells": [
  {
   "cell_type": "code",
   "execution_count": 1,
   "metadata": {},
   "outputs": [],
   "source": [
    "import numpy as np\n",
    "import matplotlib.pyplot as plt\n",
    "from scipy.interpolate import spline\n",
    "from sklearn.metrics import classification_report\n",
    "from sklearn.metrics import confusion_matrix\n",
    "from sklearn.metrics import accuracy_score"
   ]
  },
  {
   "cell_type": "markdown",
   "metadata": {},
   "source": [
    "### Parte 1 - Cálculo dos pesos e bias iniciais\n",
    "\n",
    "Ao implementar um perceptron, o primeiro passo é iniciar os pesos em um intervalo pequeno, \n",
    "como [-0.5,0.5] utilizado nesse Notebook. \n",
    "O bias quando necessário também deve ser inicializado nessa etapa. Recomenda-se o uso\n",
    "do bias em zero. Para a porta lógica AND, tornou-se necessário utilizar pequenos valores de bias\n",
    "como -1, embora o melhor resultado seja obtido com bias igual a -5."
   ]
  },
  {
   "cell_type": "code",
   "execution_count": 2,
   "metadata": {},
   "outputs": [],
   "source": [
    "#initializa os pesos aleatoriamente e zera o bias \n",
    "def weight_init(num_inputs): \n",
    "    w = 0.5*np.random.random((num_inputs))  # [1x3] \n",
    "    b = -5\n",
    "    return w,b"
   ]
  },
  {
   "cell_type": "markdown",
   "metadata": {},
   "source": [
    "### Parte 2 - Implementação das funções de ativação\n",
    "\n",
    "As funções de ativação definem o intervalo de valores que a saída do neurônio poderá ter.\n",
    "Para redes neurais tradicionais, utiliza-se as funções degrau e sigmoid. Redes neurais profundas\n",
    "como Redes Neurais de Convolução (CNN) e recorrentes (RNR, LSTM, GRU) utilizando as funções\n",
    "Relu e Tangente Hiperbólica para evitar problemas no gradiente encontrados ao utilizar a função\n",
    "degrau.\n",
    "\n",
    "Esse Notebook contém implementações das quatro funções de ativação, para verificar a corretude\n",
    "das mesmas, a função visualizeActivationFunc exibe os gráficos das mesmas, os intervalos desejados\n",
    "para cada função de ativação são:\n",
    "* Degrau: saída 0 se menor que 0 e saída 1 caso contrário\n",
    "* Sigmoid: saída entre [0,1]\n",
    "* Retificadora (Relu): saída 0 caso entrada seja negativa e maior que 1 caso contrário\n",
    "* Tangente Hiperbólica: saída entre [-1,1]"
   ]
  },
  {
   "cell_type": "code",
   "execution_count": 3,
   "metadata": {},
   "outputs": [],
   "source": [
    "### Funções de ativação ####\n",
    "def activation_func(func_type, z):\n",
    "    if func_type == 'sigmoid':\n",
    "        return 1/(1+np.exp(-z))\n",
    "    elif func_type == 'tanh':\n",
    "        return (2/(1+np.exp(-2*z)) -1)\n",
    "    elif func_type == 'relu':\n",
    "        return z * (z > 0)\n",
    "    elif func_type == 'degrau':\n",
    "        return z>=0"
   ]
  },
  {
   "cell_type": "code",
   "execution_count": 4,
   "metadata": {},
   "outputs": [
    {
     "data": {
      "image/png": "[encoded data removed]",
      "text/plain": [
       "<matplotlib.figure.Figure at 0x7f12387240b8>"
      ]
     },
     "metadata": {},
     "output_type": "display_data"
    }
   ],
   "source": [
    "z = np.arange(-5., 5., 0.2)\n",
    "def visualizeActivationFunc(z):\n",
    "    z = np.arange(-5., 5., 0.2)\n",
    "    func = []\n",
    "    for i in range(len(z)):\n",
    "        func.append(activation_func('tanh', z[i]))\n",
    "\n",
    "    plt.plot(z,func)\n",
    "    plt.xlabel('Entrada')\n",
    "    plt.ylabel('Valores de Saída')\n",
    "    plt.show()\n",
    "visualizeActivationFunc(z)"
   ]
  },
  {
   "cell_type": "markdown",
   "metadata": {},
   "source": [
    "### Parte 3 - Cálculo da saída do neurônio\n",
    "\n",
    "Com os pesos, bias inicializados e a função de ativação implementada, calcula-se a saída\n",
    "através da equação $$ Z = w * X + b $$\n",
    "Feito isso, a saída final é calculada a partir da função de ativação escolhida"
   ]
  },
  {
   "cell_type": "code",
   "execution_count": 5,
   "metadata": {},
   "outputs": [],
   "source": [
    "def propagate(w,b,X,Y):\n",
    "    z = np.dot(w,X) + b\n",
    "    out = activation_func('sigmoid', z)\n",
    "    return out"
   ]
  },
  {
   "cell_type": "markdown",
   "metadata": {},
   "source": [
    "### Parte 4 - Predição\n",
    "\n",
    "De posse da saída, deve-se avaliar o sucesso da mesma definindo-se um limiar.\n",
    "Para problemas binários, pode-se estabelecer o limiar em 0.5, de forma que abaixo disso \n",
    "a saída é 0 e 1 caso contrário."
   ]
  },
  {
   "cell_type": "code",
   "execution_count": 6,
   "metadata": {},
   "outputs": [],
   "source": [
    "# Faz a predição da saída\n",
    "def predict(z):\n",
    "    return (z>0.5).astype(int)"
   ]
  },
  {
   "cell_type": "markdown",
   "metadata": {},
   "source": [
    "### Parte 5 - Treino e Avaliação\n",
    "\n",
    "Durante o treinamento, a saída é calculada pela função propagate n vezes, onde n é a quantidade\n",
    "de interações do algoritmo.\n",
    "Na primeira interação, os pesos possuem valores pré-definidos pela função de inicialização e são aleatórios\n",
    "após essa interação, as próximas calculam o peso baseado em um erro, calculado a partir da equação:\n",
    "    \n",
    "$$ erro = y - y_pred $$\n",
    "    \n",
    "Onde y é a saída original do conjunto de dados e y_pred as saidas calculadas. Dado o erro, \n",
    "os pesos são atualizados a partir da equação:\n",
    "    \n",
    "$$ w += erro * taxa de aprendizado*X $$\n",
    "    \n",
    "Onde X é o conjunto de entrada e a taxa de aprendizagem é um parâmetro de otimização que possui\n",
    "seus valorse variando entre [0,1]. Recomenda-se o uso de taxas de aprendizagem medianas\n",
    "para problemas com redes neurais tradicionais simples (como 0.2-0.5) e taxas de aprendizagem\n",
    "maiores para redes neurais profundas (acima de 0.02)."
   ]
  },
  {
   "cell_type": "code",
   "execution_count": 7,
   "metadata": {},
   "outputs": [],
   "source": [
    "def perceptron(x,y):\n",
    "    w,b = weight_init(2)\n",
    "    for j in range(5000):\n",
    "        y_pred = propagate(w,b,x,y)\n",
    "        erro = y - y_pred\n",
    "        w += np.dot(erro*0.2, x.T)\n",
    "\n",
    "    print('Saída obtida:', y_pred)\n",
    "    print('Pesos obtidos:', w)\n",
    "\n",
    "    #Métricas de Avaliação\n",
    "    y_pred = predict(y_pred)\n",
    "    print('Matriz de Confusão:')\n",
    "    print(confusion_matrix(y, y_pred))\n",
    "    print('F1 Score:')\n",
    "    print(classification_report(y, y_pred))"
   ]
  },
  {
   "cell_type": "code",
   "execution_count": 8,
   "metadata": {},
   "outputs": [
    {
     "name": "stdout",
     "output_type": "stream",
     "text": [
      "Saída obtida: [ 0.00669285  0.8411309   0.1588691   0.1588691 ]\n",
      "Pesos obtidos: [ 3.33333333  3.33333333]\n",
      "Matriz de Confusão:\n",
      "[[3 0]\n",
      " [0 1]]\n",
      "F1 Score:\n",
      "             precision    recall  f1-score   support\n",
      "\n",
      "          0       1.00      1.00      1.00         3\n",
      "          1       1.00      1.00      1.00         1\n",
      "\n",
      "avg / total       1.00      1.00      1.00         4\n",
      "\n"
     ]
    }
   ],
   "source": [
    "## AND Gate\n",
    "x = np.array([[0,0],[1,1],[1,0],[0,1]]).T \n",
    "y = np.array([0,1,0,0])\n",
    "\n",
    "## OR Gate\n",
    "#x = np.array([[0,0],[1,1],[1,0],[0,1]]).T \n",
    "#y = np.array([0,1,1,1])\n",
    "\n",
    "perceptron(x,y)"
   ]
  },
  {
   "cell_type": "code",
   "execution_count": null,
   "metadata": {},
   "outputs": [],
   "source": []
  },
  {
   "cell_type": "code",
   "execution_count": null,
   "metadata": {},
   "outputs": [],
   "source": []
  }
 ],
 "metadata": {
  "kernelspec": {
   "display_name": "Python 3",
   "language": "python",
   "name": "python3"
  },
  "language_info": {
   "codemirror_mode": {
    "name": "ipython",
    "version": 3
   },
   "file_extension": ".py",
   "mimetype": "text/x-python",
   "name": "python",
   "nbconvert_exporter": "python",
   "pygments_lexer": "ipython3",
   "version": "3.6.3"
  }
 },
 "nbformat": 4,
 "nbformat_minor": 2
}
