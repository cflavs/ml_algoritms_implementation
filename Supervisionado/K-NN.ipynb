{
 "cells": [
  {
   "cell_type": "code",
   "execution_count": 1,
   "metadata": {},
   "outputs": [],
   "source": [
    "#bibliotecas utilizadas\n",
    "import csv\n",
    "import numpy as np\n",
    "import pandas as pd\n",
    "import matplotlib.pyplot as plt\n",
    "# Database\n",
    "from sklearn.datasets import load_iris\n",
    "from sklearn.metrics import classification_report\n",
    "from sklearn.metrics import accuracy_score\n",
    "from sklearn.metrics import confusion_matrix\n",
    "from sklearn.model_selection import train_test_split\n",
    "from sklearn.preprocessing import LabelEncoder, OneHotEncoder\n",
    "import matplotlib.pyplot as plt\n",
    "from sklearn import preprocessing"
   ]
  },
  {
   "cell_type": "markdown",
   "metadata": {},
   "source": [
    "### Parte 1 - Dataset\n",
    "\n",
    "Ao iniciar qualquer experimento com Inteligência Artificial, o primeiro passo, e um dos mais importantes, é compreender o problema interpretando a base de dados escolhida. Dessa forma, nesta parte deve-se:\n",
    "* Carregar o dataset\n",
    "* Analisar os atributos\n",
    "* Identificar possíveis problemas com a base para preprocessá-la (e.g. identificar duplicadas, outliers, instâncias com atributos incompletos, normalizar e centralizar dados)"
   ]
  },
  {
   "cell_type": "code",
   "execution_count": 2,
   "metadata": {},
   "outputs": [],
   "source": [
    "def readData(filename, classIndex):\n",
    "    \"\"\" Essa função recebe como parâmetro o nome do arquivo e o índice do atributo alvo.\n",
    "        Retorno: o dataframe preprocessado e o dataframe contendo apenas a coluna do atributo alvo\n",
    "    \"\"\"\n",
    "    df = pd.read_csv('LasVegasTripAdvisorReviews-Dataset.csv', delimiter=';')\n",
    "    labelencoder_X = LabelEncoder()\n",
    "    df = df.apply(LabelEncoder().fit_transform)\n",
    "    df_classes = df.iloc[:,14]\n",
    "    #print(df.columns.values)\n",
    "    df.drop(df.columns[[14]], axis=1, inplace=True)\n",
    "    return df, df_classes"
   ]
  },
  {
   "cell_type": "code",
   "execution_count": 3,
   "metadata": {},
   "outputs": [],
   "source": [
    "def visualizeFreq(x, y):\n",
    "    \"\"\"Função simples para plotagem de gŕaficos de barra e de linha.\n",
    "        Utilizou-se essa função para visualizar a frequência das classes e os melhores resultados\n",
    "        de K.\n",
    "    \"\"\"\n",
    "    width = 0.3\n",
    "    plt.bar(x, y, width, color=\"indianred\", align='center')\n",
    "    #plt.plot(freq,colum_values)\n",
    "    plt.xlabel('Valores de K')\n",
    "    plt.ylabel('Acurácia')\n",
    "    plt.show() "
   ]
  },
  {
   "cell_type": "markdown",
   "metadata": {},
   "source": [
    "### Parte 2 - Preprocessamento\n",
    "\n",
    "Para essa base, foram excluídas as colunas 8,9,11 e 12, por terem o mesmo valor para todas as instâncias, e o atributo da coluna 13, referente ao nome do hotel.\n",
    "Foram testadas três tipos de normalizações, disponíveis na biblioteca preprocessing do  Scikit-learn."
   ]
  },
  {
   "cell_type": "code",
   "execution_count": 4,
   "metadata": {},
   "outputs": [],
   "source": [
    "from sklearn import preprocessing\n",
    "\n",
    "def preprocessingData(df, normalization_type):\n",
    "    \"\"\"Entrada: dataframe e tipo de normalização, adicione 'None' neste parâmetro caso\n",
    "    não queira normalizar.\n",
    "        Retorna o dataframe preprocessado\n",
    "    \"\"\"\n",
    "    df.drop(df.columns[[8,9,11,12,13]], axis=1, inplace=True)\n",
    "    if normalization_type == 'scale':\n",
    "        return preprocessing.scale(df)\n",
    "    elif normalization_type == 'normalize':\n",
    "        return preprocessing.normalize(df, axis=0)\n",
    "    elif normalization_type == 'minmax':\n",
    "        min_max_scaler = preprocessing.MinMaxScaler()\n",
    "        return min_max_scaler.fit_transform(df)\n",
    "    return df"
   ]
  },
  {
   "cell_type": "markdown",
   "metadata": {},
   "source": [
    "### Parte 3 - Distâncias\n",
    "\n",
    "Em métodos baseados em distância, um dos passos do algoritmo é calcular a distância entre dois pontos, para isso esse Notebook utiliza três tipos de distância comumente utilizadas:\n",
    "* Distância Euclidiana: $$d(x,y) = \\sqrt{\\sum_{l=1}^d(x_l-y_l)^2}$$ \n",
    "* Distância Manhattan: $$d(x,y) = \\sum_{l=1}^d|x_l-y_l|$$ \n",
    "* Distância Minkowski: $$d(x,y) = \\sqrt[p]{\\sum_{l=0}^{d-l}(|x_l-y_l|)^p}$$ \n"
   ]
  },
  {
   "cell_type": "code",
   "execution_count": 5,
   "metadata": {},
   "outputs": [],
   "source": [
    "def distance(distanceMethod,x,y,p=2):\n",
    "    \"\"\"Calcula as distãncias utilizadas, recebe como parâmetros o tipo de distância,\n",
    "    os atributos de entrada x e o atributo alvo y. O parâmetro p possui um default igual a 2\n",
    "    e é utilizado apenas para a distância Minkowski.\n",
    "    Retorno: Array com as distâncias obtidas\n",
    "    \"\"\"\n",
    "    if distanceMethod == 'euclidean':\n",
    "        return np.sqrt(np.sum((x - y) ** 2,axis=1))\n",
    "    elif distanceMethod=='manhattan':\n",
    "        return np.sum(np.abs(x-y),axis=1)\n",
    "    elif distanceMethod=='minkowski':\n",
    "        return np.sum(np.abs(x-y)**p,axis=1)**1/p"
   ]
  },
  {
   "cell_type": "markdown",
   "metadata": {},
   "source": [
    "### Parte 3 - K-NN\n",
    "\n",
    "Para a implementação do KNN, a distância dos pontos foi calculada através do método distance, ordenada utilizando Numpy e as k maiores distâncias foram armazenadas no vetor de saída.\n"
   ]
  },
  {
   "cell_type": "code",
   "execution_count": 6,
   "metadata": {},
   "outputs": [],
   "source": [
    "def train_Knn(X_train,y_train, X_test, k, distance_method):\n",
    "    \"\"\"Função de treino do KNN, recebe como parâmetro a base de treino e seus respectivos\n",
    "    labels, assim como a base de teste, o k desejado e a distância.\n",
    "    Retorno: array com a predição resultante.\n",
    "    \"\"\"\n",
    "    y_pred=[]\n",
    "    for i in range(X_test.shape[0]):\n",
    "        d = distance(distance_method, X_train, X_test[i,:])\n",
    "        d_sort = np.argsort(d)\n",
    "        y_n = y_train[d_sort[:k]]\n",
    "        y_n.dtype\n",
    "        y_pred.append(np.argmax(np.bincount(y_n)))\n",
    "    return y_pred"
   ]
  },
  {
   "cell_type": "markdown",
   "metadata": {},
   "source": [
    "### Parte 4 - Algoritmo Completo e Teste dos Dados\n",
    "\n",
    "A função KNN recebe o arquivo de entrada e divide-se em três partes principais:\n",
    "* Leitura e preprocessamento dos arquivos\n",
    "* Treinamento variando K entre [1,49] apenas para valores ímpares\n",
    "* Retorno do K que obteve melhor acurácia e análise de métricas do algoritmo (F1, acurácia e matriz de confusão)"
   ]
  },
  {
   "cell_type": "code",
   "execution_count": 7,
   "metadata": {},
   "outputs": [],
   "source": [
    "def knn(filename):\n",
    "    df, df_classes = readData(filename,14)\n",
    "    visualizeFreq(df_classes.unique(),  df_classes.value_counts())\n",
    "    df = preprocessingData(df,'minmax')\n",
    "    X_train, X_test, y_train, y_test = train_test_split(df, df_classes.values, test_size=0.33,stratify=df_classes.values)\n",
    "    acc = []\n",
    "    for k in range(1,49,2):\n",
    "        y_pred = train_Knn(X_train, y_train, X_test, k, 'minkowski')\n",
    "        acc.append(accuracy_score(y_test, y_pred))\n",
    "    #visualizeFreq(acc, range(1,49,2))\n",
    "    y_pred_max = np.max(acc)\n",
    "    y_pred_bestK = np.argmax(acc)\n",
    "    print('Accuracia:', y_pred_max)\n",
    "    print('Melhor K:', y_pred_bestK)\n",
    "    print(classification_report(y_test, y_pred))\n",
    "    print(confusion_matrix(y_test, y_pred))"
   ]
  },
  {
   "cell_type": "code",
   "execution_count": 8,
   "metadata": {},
   "outputs": [
    {
     "data": {
      "image/png": "[encoded data removed]",
      "text/plain": [
       "<matplotlib.figure.Figure at 0x7feb57afacf8>"
      ]
     },
     "metadata": {},
     "output_type": "display_data"
    },
    {
     "name": "stdout",
     "output_type": "stream",
     "text": [
      "Accuracia: 0.556886227545\n",
      "Melhor K: 19\n",
      "             precision    recall  f1-score   support\n",
      "\n",
      "          0       1.00      0.25      0.40        32\n",
      "          1       0.52      0.67      0.58        24\n",
      "          2       0.47      0.20      0.28        40\n",
      "          3       0.00      0.00      0.00         8\n",
      "          4       0.53      0.94      0.68        63\n",
      "\n",
      "avg / total       0.58      0.54      0.48       167\n",
      "\n",
      "[[ 8  7  3  0 14]\n",
      " [ 0 16  2  0  6]\n",
      " [ 0  0  8  0 32]\n",
      " [ 0  8  0  0  0]\n",
      " [ 0  0  4  0 59]]\n"
     ]
    },
    {
     "name": "stderr",
     "output_type": "stream",
     "text": [
      "/usr/local/lib/python3.6/dist-packages/sklearn/metrics/classification.py:1135: UndefinedMetricWarning: Precision and F-score are ill-defined and being set to 0.0 in labels with no predicted samples.\n",
      "  'precision', 'predicted', average, warn_for)\n"
     ]
    }
   ],
   "source": [
    "knn('LasVegasTripAdvisorReviews-Dataset.csv')"
   ]
  },
  {
   "cell_type": "code",
   "execution_count": null,
   "metadata": {},
   "outputs": [],
   "source": []
  }
 ],
 "metadata": {
  "kernelspec": {
   "display_name": "Python 3",
   "language": "python",
   "name": "python3"
  },
  "language_info": {
   "codemirror_mode": {
    "name": "ipython",
    "version": 3
   },
   "file_extension": ".py",
   "mimetype": "text/x-python",
   "name": "python",
   "nbconvert_exporter": "python",
   "pygments_lexer": "ipython3",
   "version": "3.6.3"
  }
 },
 "nbformat": 4,
 "nbformat_minor": 2
}
