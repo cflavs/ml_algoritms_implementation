{
 "cells": [
  {
   "cell_type": "code",
   "execution_count": 1,
   "metadata": {},
   "outputs": [],
   "source": [
    "#bibliotecas utilizadas\n",
    "import csv\n",
    "import numpy as np\n",
    "import pandas as pd\n",
    "import matplotlib.pyplot as plt\n",
    "# Database\n",
    "from sklearn.datasets import load_iris\n",
    "from sklearn.metrics import accuracy_score\n",
    "from sklearn.metrics import confusion_matrix\n",
    "from sklearn.model_selection import train_test_split\n"
   ]
  },
  {
   "cell_type": "markdown",
   "metadata": {},
   "source": [
    "### Parte 1 - Dataset\n",
    "\n",
    "Ao iniciar qualquer experimento com Inteligência Artificial, o primeiro passo, e um dos mais importantes, é compreender o problema interpretando a base de dados escolhida. Dessa forma, nesta parte deve-se:\n",
    "* Carregar o dataset\n",
    "* Analisar os atributos\n",
    "* Identificar possíveis problemas com a base para preprocessá-la (e.g. identificar duplicadas, outliers, instâncias com atributos incompletos, normalizar e centralizar dados)"
   ]
  },
  {
   "cell_type": "code",
   "execution_count": 13,
   "metadata": {},
   "outputs": [
    {
     "data": {
      "text/html": [
       "<div>\n",
       "<style scoped>\n",
       "    .dataframe tbody tr th:only-of-type {\n",
       "        vertical-align: middle;\n",
       "    }\n",
       "\n",
       "    .dataframe tbody tr th {\n",
       "        vertical-align: top;\n",
       "    }\n",
       "\n",
       "    .dataframe thead th {\n",
       "        text-align: right;\n",
       "    }\n",
       "</style>\n",
       "<table border=\"1\" class=\"dataframe\">\n",
       "  <thead>\n",
       "    <tr style=\"text-align: right;\">\n",
       "      <th></th>\n",
       "      <th>0</th>\n",
       "      <th>1</th>\n",
       "      <th>2</th>\n",
       "      <th>3</th>\n",
       "      <th>4</th>\n",
       "    </tr>\n",
       "  </thead>\n",
       "  <tbody>\n",
       "    <tr>\n",
       "      <th>0</th>\n",
       "      <td>Sol</td>\n",
       "      <td>quente</td>\n",
       "      <td>alta</td>\n",
       "      <td>Não</td>\n",
       "      <td>Não</td>\n",
       "    </tr>\n",
       "    <tr>\n",
       "      <th>1</th>\n",
       "      <td>Sol</td>\n",
       "      <td>quente</td>\n",
       "      <td>alta</td>\n",
       "      <td>Sim</td>\n",
       "      <td>Não</td>\n",
       "    </tr>\n",
       "    <tr>\n",
       "      <th>2</th>\n",
       "      <td>Nublado</td>\n",
       "      <td>quente</td>\n",
       "      <td>alta</td>\n",
       "      <td>Não</td>\n",
       "      <td>Sim</td>\n",
       "    </tr>\n",
       "    <tr>\n",
       "      <th>3</th>\n",
       "      <td>Chuva</td>\n",
       "      <td>moderada</td>\n",
       "      <td>alta</td>\n",
       "      <td>Não</td>\n",
       "      <td>Sim</td>\n",
       "    </tr>\n",
       "    <tr>\n",
       "      <th>4</th>\n",
       "      <td>Chuva</td>\n",
       "      <td>fria</td>\n",
       "      <td>normal</td>\n",
       "      <td>Não</td>\n",
       "      <td>Sim</td>\n",
       "    </tr>\n",
       "    <tr>\n",
       "      <th>5</th>\n",
       "      <td>Chuva</td>\n",
       "      <td>fria</td>\n",
       "      <td>normal</td>\n",
       "      <td>Sim</td>\n",
       "      <td>Não</td>\n",
       "    </tr>\n",
       "    <tr>\n",
       "      <th>6</th>\n",
       "      <td>Nublado</td>\n",
       "      <td>fria</td>\n",
       "      <td>normal</td>\n",
       "      <td>Sim</td>\n",
       "      <td>Sim</td>\n",
       "    </tr>\n",
       "    <tr>\n",
       "      <th>7</th>\n",
       "      <td>Sol</td>\n",
       "      <td>moderada</td>\n",
       "      <td>alta</td>\n",
       "      <td>Não</td>\n",
       "      <td>Não</td>\n",
       "    </tr>\n",
       "    <tr>\n",
       "      <th>8</th>\n",
       "      <td>Sol</td>\n",
       "      <td>fria</td>\n",
       "      <td>normal</td>\n",
       "      <td>Não</td>\n",
       "      <td>Sim</td>\n",
       "    </tr>\n",
       "    <tr>\n",
       "      <th>9</th>\n",
       "      <td>Chuva</td>\n",
       "      <td>moderada</td>\n",
       "      <td>normal</td>\n",
       "      <td>Não</td>\n",
       "      <td>Sim</td>\n",
       "    </tr>\n",
       "    <tr>\n",
       "      <th>10</th>\n",
       "      <td>Sol</td>\n",
       "      <td>moderada</td>\n",
       "      <td>normal</td>\n",
       "      <td>Sim</td>\n",
       "      <td>Sim</td>\n",
       "    </tr>\n",
       "    <tr>\n",
       "      <th>11</th>\n",
       "      <td>Nublado</td>\n",
       "      <td>moderada</td>\n",
       "      <td>alta</td>\n",
       "      <td>Sim</td>\n",
       "      <td>Sim</td>\n",
       "    </tr>\n",
       "    <tr>\n",
       "      <th>12</th>\n",
       "      <td>Nublado</td>\n",
       "      <td>quente</td>\n",
       "      <td>normal</td>\n",
       "      <td>Não</td>\n",
       "      <td>Sim</td>\n",
       "    </tr>\n",
       "    <tr>\n",
       "      <th>13</th>\n",
       "      <td>Chuva</td>\n",
       "      <td>moderada</td>\n",
       "      <td>alta</td>\n",
       "      <td>Sim</td>\n",
       "      <td>Não</td>\n",
       "    </tr>\n",
       "  </tbody>\n",
       "</table>\n",
       "</div>"
      ],
      "text/plain": [
       "          0         1       2    3    4\n",
       "0       Sol    quente    alta  Não  Não\n",
       "1       Sol    quente    alta  Sim  Não\n",
       "2   Nublado    quente    alta  Não  Sim\n",
       "3     Chuva  moderada    alta  Não  Sim\n",
       "4     Chuva      fria  normal  Não  Sim\n",
       "5     Chuva      fria  normal  Sim  Não\n",
       "6   Nublado      fria  normal  Sim  Sim\n",
       "7       Sol  moderada    alta  Não  Não\n",
       "8       Sol      fria  normal  Não  Sim\n",
       "9     Chuva  moderada  normal  Não  Sim\n",
       "10      Sol  moderada  normal  Sim  Sim\n",
       "11  Nublado  moderada    alta  Sim  Sim\n",
       "12  Nublado    quente  normal  Não  Sim\n",
       "13    Chuva  moderada    alta  Sim  Não"
      ]
     },
     "execution_count": 13,
     "metadata": {},
     "output_type": "execute_result"
    }
   ],
   "source": [
    "# Create an empty dataframe\n",
    "\n",
    "data = [['Sol'    , 'quente', 'alta', 'Não', 'Não'],\n",
    "        ['Sol'    , 'quente', 'alta', 'Sim', 'Não'],\n",
    "        ['Nublado', 'quente', 'alta', 'Não', 'Sim'],\n",
    "        ['Chuva'  , 'moderada', 'alta', 'Não', 'Sim'],\n",
    "        ['Chuva'  , 'fria', 'normal', 'Não', 'Sim'],\n",
    "        ['Chuva'  , 'fria', 'normal', 'Sim', 'Não'],\n",
    "        ['Nublado', 'fria', 'normal', 'Sim', 'Sim'],\n",
    "        ['Sol'    , 'moderada', 'alta', 'Não', 'Não'],\n",
    "        ['Sol'    , 'fria', 'normal', 'Não', 'Sim'],\n",
    "        ['Chuva'  , 'moderada', 'normal', 'Não', 'Sim'],\n",
    "        ['Sol'    , 'moderada', 'normal', 'Sim', 'Sim'],\n",
    "        ['Nublado', 'moderada', 'alta', 'Sim', 'Sim'],\n",
    "        ['Nublado', 'quente', 'normal', 'Não', 'Sim'],\n",
    "        ['Chuva'  , 'moderada', 'alta', 'Sim', 'Não'],\n",
    "       ];\n",
    "\n",
    "df = pd.DataFrame(data)\n",
    "# Create our target variable\n",
    "##data['Gender'] = ['male','male','male','male','female','female','female','female']\n",
    "\n",
    "# Create our feature variables\n",
    "#data['Height'] = [6,5.92,5.58,5.92,5,5.5,5.42,5.75]\n",
    "#data['Weight'] = [180,190,170,165,100,150,130,150]\n",
    "#data['Foot_Size'] = [12,11,12,10,6,8,7,9]\n",
    "\n",
    "# View the data\n",
    "df"
   ]
  },
  {
   "cell_type": "code",
   "execution_count": 14,
   "metadata": {},
   "outputs": [],
   "source": [
    "outputFreq = []\n",
    "outputNames = df.iloc[:,4].unique()\n",
    "totalOutputFreq = df.iloc[:,4].count()\n",
    "outputProb = []\n",
    "\n",
    "for i in range(len(outputNames)):\n",
    "    outputFreq.append(df.iloc[:,4][df.iloc[:,4] == outputNames[i]].count())\n",
    "    outputProb.append(outputFreq[i]/totalOutputFreq)"
   ]
  },
  {
   "cell_type": "code",
   "execution_count": 45,
   "metadata": {},
   "outputs": [
    {
     "name": "stdout",
     "output_type": "stream",
     "text": [
      "['Sol' 'Nublado' 'Chuva']\n",
      "['quente' 'moderada' 'fria']\n",
      "['alta' 'normal']\n",
      "['Não' 'Sim']\n"
     ]
    }
   ],
   "source": [
    "attributesFreq = [[]]\n",
    "conditionalFreq = [[]]\n",
    "for i in range(df.shape[1]-1):\n",
    "    attributeNames = df.iloc[:,i].unique()\n",
    "    print(attributeNames)\n",
    "    for j in range(len(attributeNames)):\n",
    "        for k in range(len(outputNames)):\n",
    "            #attributesFreq[i].append(df.iloc[:,i][df.iloc[:,i] == attributeNames[j]].count())\n",
    "            conditionalFreq[i].append(df.iloc[:,4][(df.iloc[:,4] == outputNames[k])][df.iloc[:,i]== attributeNames[j]].count())\n",
    "    if i < df.shape[1]-2:\n",
    "        #attributesFreq.append([])\n",
    "        conditionalFreq.append([])\n"
   ]
  },
  {
   "cell_type": "code",
   "execution_count": 46,
   "metadata": {},
   "outputs": [
    {
     "data": {
      "text/plain": [
       "[[3, 2, 0, 4, 2, 3], [2, 2, 2, 4, 1, 3], [4, 3, 1, 6], [2, 6, 3, 3]]"
      ]
     },
     "execution_count": 46,
     "metadata": {},
     "output_type": "execute_result"
    }
   ],
   "source": [
    "conditionalFreq"
   ]
  },
  {
   "cell_type": "code",
   "execution_count": 44,
   "metadata": {},
   "outputs": [
    {
     "data": {
      "text/plain": [
       "[[5, 5, 4, 4, 5, 5], [4, 4, 6, 6, 4, 4], [7, 7, 7, 7], [8, 8, 6, 6]]"
      ]
     },
     "execution_count": 44,
     "metadata": {},
     "output_type": "execute_result"
    }
   ],
   "source": [
    "attributesFreq"
   ]
  },
  {
   "cell_type": "code",
   "execution_count": 54,
   "metadata": {},
   "outputs": [],
   "source": [
    "testp = outputProb[1] * conditionalFreq[0][5]/outputFreq[1] * conditionalFreq[1][5]/outputFreq[1]* conditionalFreq[2][1]/outputFreq[1] * conditionalFreq[3][3]/outputFreq[1]"
   ]
  },
  {
   "cell_type": "code",
   "execution_count": 58,
   "metadata": {},
   "outputs": [],
   "source": [
    "testn = outputProb[0] * conditionalFreq[0][4]/outputFreq[0] * conditionalFreq[1][4]/outputFreq[0]* conditionalFreq[2][0]/outputFreq[0] * conditionalFreq[3][2]/outputFreq[0])"
   ]
  },
  {
   "cell_type": "code",
   "execution_count": 62,
   "metadata": {},
   "outputs": [],
   "source": [
    "positivo = testp/(testp+testn)\n",
    "negativo = testn/(testp+testn)"
   ]
  },
  {
   "cell_type": "code",
   "execution_count": 69,
   "metadata": {},
   "outputs": [],
   "source": [
    "positivo = testp/(testp+testn)\n",
    "negativo = testn/(testp+testn)"
   ]
  },
  {
   "cell_type": "code",
   "execution_count": 68,
   "metadata": {},
   "outputs": [
    {
     "data": {
      "text/plain": [
       "0.36656891495601174"
      ]
     },
     "execution_count": 68,
     "metadata": {},
     "output_type": "execute_result"
    }
   ],
   "source": [
    "negativo"
   ]
  },
  {
   "cell_type": "code",
   "execution_count": 19,
   "metadata": {},
   "outputs": [
    {
     "data": {
      "text/plain": [
       "[[0.59999999999999998,\n",
       "  0.40000000000000002,\n",
       "  0.0,\n",
       "  1.0,\n",
       "  0.40000000000000002,\n",
       "  0.59999999999999998],\n",
       " [0.5, 0.5, 0.33333333333333331, 0.66666666666666663, 0.25, 0.75],\n",
       " [0.5714285714285714,\n",
       "  0.42857142857142855,\n",
       "  0.14285714285714285,\n",
       "  0.8571428571428571],\n",
       " [0.25, 0.75, 0.5, 0.5]]"
      ]
     },
     "execution_count": 19,
     "metadata": {},
     "output_type": "execute_result"
    }
   ],
   "source": [
    "totalAttributesProb"
   ]
  },
  {
   "cell_type": "code",
   "execution_count": 37,
   "metadata": {},
   "outputs": [],
   "source": [
    "testeset = outputProb[1] * totalAttributesProb[0][1] * totalAttributesProb[1][3] * totalAttributesProb[2][1] * totalAttributesProb[3][1]"
   ]
  },
  {
   "cell_type": "code",
   "execution_count": 38,
   "metadata": {},
   "outputs": [
    {
     "data": {
      "text/plain": [
       "0.6428571428571429"
      ]
     },
     "execution_count": 38,
     "metadata": {},
     "output_type": "execute_result"
    }
   ],
   "source": [
    "testset"
   ]
  },
  {
   "cell_type": "code",
   "execution_count": 36,
   "metadata": {},
   "outputs": [
    {
     "data": {
      "text/plain": [
       "[0.35714285714285715, 0.6428571428571429]"
      ]
     },
     "execution_count": 36,
     "metadata": {},
     "output_type": "execute_result"
    }
   ],
   "source": [
    "outputProb"
   ]
  },
  {
   "cell_type": "code",
   "execution_count": 40,
   "metadata": {},
   "outputs": [
    {
     "data": {
      "text/plain": [
       "0.66666666666666663"
      ]
     },
     "execution_count": 40,
     "metadata": {},
     "output_type": "execute_result"
    }
   ],
   "source": [
    "totalAttributesProb[1][3]"
   ]
  },
  {
   "cell_type": "code",
   "execution_count": 49,
   "metadata": {},
   "outputs": [
    {
     "data": {
      "text/plain": [
       "[5, 9]"
      ]
     },
     "execution_count": 49,
     "metadata": {},
     "output_type": "execute_result"
    }
   ],
   "source": [
    "outputFreq"
   ]
  },
  {
   "cell_type": "code",
   "execution_count": null,
   "metadata": {},
   "outputs": [],
   "source": []
  }
 ],
 "metadata": {
  "kernelspec": {
   "display_name": "Python 3",
   "language": "python",
   "name": "python3"
  },
  "language_info": {
   "codemirror_mode": {
    "name": "ipython",
    "version": 3
   },
   "file_extension": ".py",
   "mimetype": "text/x-python",
   "name": "python",
   "nbconvert_exporter": "python",
   "pygments_lexer": "ipython3",
   "version": "3.6.3"
  }
 },
 "nbformat": 4,
 "nbformat_minor": 2
}
